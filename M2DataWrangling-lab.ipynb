{
  "metadata": {
    "kernelspec": {
      "name": "python",
      "display_name": "Python (Pyodide)",
      "language": "python"
    },
    "language_info": {
      "codemirror_mode": {
        "name": "python",
        "version": 3
      },
      "file_extension": ".py",
      "mimetype": "text/x-python",
      "name": "python",
      "nbconvert_exporter": "python",
      "pygments_lexer": "ipython3",
      "version": "3.8"
    },
    "prev_pub_hash": "90ac80ca41fde58b95f02cc0cfc0a0f2ed3115615ffe1bdfdfc10fd5ffeef9a4"
  },
  "nbformat_minor": 4,
  "nbformat": 4,
  "cells": [
    {
      "cell_type": "markdown",
      "source": "<p style=\"text-align:center\">\n    <a href=\"https://skills.network/?utm_medium=Exinfluencer&utm_source=Exinfluencer&utm_content=000026UJ&utm_term=10006555&utm_id=NA-SkillsNetwork-Channel-SkillsNetworkCoursesIBMDA0321ENSkillsNetwork928-2022-01-01\" target=\"_blank\">\n    <img src=\"https://cf-courses-data.s3.us.cloud-object-storage.appdomain.cloud/assets/logos/SN_web_lightmode.png\" width=\"400\" alt=\"Skills Network Logo\"  />\n    </a>\n</p>\n",
      "metadata": {}
    },
    {
      "cell_type": "markdown",
      "source": "# **Data Wrangling Lab**\n",
      "metadata": {}
    },
    {
      "cell_type": "markdown",
      "source": "Estimated time needed: **45 to 60** minutes\n",
      "metadata": {}
    },
    {
      "cell_type": "markdown",
      "source": "In this assignment you will be performing data wrangling.\n",
      "metadata": {}
    },
    {
      "cell_type": "markdown",
      "source": "## Objectives\n",
      "metadata": {}
    },
    {
      "cell_type": "markdown",
      "source": "In this lab you will perform the following:\n",
      "metadata": {}
    },
    {
      "cell_type": "markdown",
      "source": "-   Identify duplicate values in the dataset.\n\n-   Remove duplicate values from the dataset.\n\n-   Identify missing values in the dataset.\n\n-   Impute the missing values in the dataset.\n\n-   Normalize data in the dataset.\n",
      "metadata": {}
    },
    {
      "cell_type": "markdown",
      "source": "<hr>\n",
      "metadata": {}
    },
    {
      "cell_type": "markdown",
      "source": "## Hands on Lab\n",
      "metadata": {}
    },
    {
      "cell_type": "markdown",
      "source": "Import pandas module.\n",
      "metadata": {}
    },
    {
      "cell_type": "code",
      "source": "import pandas as pd\nimport numpy as np\nimport matplotlib.pyplot as plt\n%matplotlib inline",
      "metadata": {
        "trusted": true
      },
      "outputs": [
        {
          "name": "stderr",
          "text": "<ipython-input-1-ea90a94a94b6>:1: DeprecationWarning: \nPyarrow will become a required dependency of pandas in the next major release of pandas (pandas 3.0),\n(to allow more performant data types, such as the Arrow string type, and better interoperability with other libraries)\nbut was not found to be installed on your system.\nIf this would cause problems for you,\nplease provide us feedback at https://github.com/pandas-dev/pandas/issues/54466\n        \n  import pandas as pd\n",
          "output_type": "stream"
        }
      ],
      "execution_count": 1
    },
    {
      "cell_type": "markdown",
      "source": "Load the dataset into a dataframe.\n",
      "metadata": {}
    },
    {
      "cell_type": "markdown",
      "source": "<h2>Read Data</h2>\n<p>\nWe utilize the <code>pandas.read_csv()</code> function for reading CSV files. However, in this version of the lab, which operates on JupyterLite, the dataset needs to be downloaded to the interface using the provided code below.\n</p>\n",
      "metadata": {}
    },
    {
      "cell_type": "markdown",
      "source": "The functions below will download the dataset into your browser:\n",
      "metadata": {}
    },
    {
      "cell_type": "code",
      "source": "from pyodide.http import pyfetch\n\nasync def download(url, filename):\n    response = await pyfetch(url)\n    if response.status == 200:\n        with open(filename, \"wb\") as f:\n            f.write(await response.bytes())",
      "metadata": {
        "trusted": true
      },
      "outputs": [],
      "execution_count": 2
    },
    {
      "cell_type": "code",
      "source": "file_path = \"https://cf-courses-data.s3.us.cloud-object-storage.appdomain.cloud/IBM-DA0321EN-SkillsNetwork/LargeData/m1_survey_data.csv\"",
      "metadata": {
        "trusted": true
      },
      "outputs": [],
      "execution_count": 3
    },
    {
      "cell_type": "markdown",
      "source": "To obtain the dataset, utilize the download() function as defined above:  \n",
      "metadata": {}
    },
    {
      "cell_type": "code",
      "source": "await download(file_path, \"m1_survey_data.csv\")\nfile_name=\"m1_survey_data.csv\"",
      "metadata": {
        "trusted": true
      },
      "outputs": [],
      "execution_count": 4
    },
    {
      "cell_type": "markdown",
      "source": "Utilize the Pandas method read_csv() to load the data into a dataframe.\n",
      "metadata": {}
    },
    {
      "cell_type": "code",
      "source": "df = pd.read_csv(file_name)",
      "metadata": {
        "trusted": true
      },
      "outputs": [],
      "execution_count": 5
    },
    {
      "cell_type": "code",
      "source": "print(df.info())",
      "metadata": {
        "trusted": true
      },
      "outputs": [
        {
          "name": "stdout",
          "text": "<class 'pandas.core.frame.DataFrame'>\nRangeIndex: 11552 entries, 0 to 11551\nData columns (total 85 columns):\n #   Column                  Non-Null Count  Dtype  \n---  ------                  --------------  -----  \n 0   Respondent              11552 non-null  int64  \n 1   MainBranch              11552 non-null  object \n 2   Hobbyist                11552 non-null  object \n 3   OpenSourcer             11552 non-null  object \n 4   OpenSource              11471 non-null  object \n 5   Employment              11552 non-null  object \n 6   Country                 11552 non-null  object \n 7   Student                 11499 non-null  object \n 8   EdLevel                 11436 non-null  object \n 9   UndergradMajor          10812 non-null  object \n 10  EduOther                11388 non-null  object \n 11  OrgSize                 11454 non-null  object \n 12  DevType                 11485 non-null  object \n 13  YearsCode               11543 non-null  object \n 14  Age1stCode              11539 non-null  object \n 15  YearsCodePro            11536 non-null  object \n 16  CareerSat               11552 non-null  object \n 17  JobSat                  11551 non-null  object \n 18  MgrIdiot                11054 non-null  object \n 19  MgrMoney                11050 non-null  object \n 20  MgrWant                 11054 non-null  object \n 21  JobSeek                 11552 non-null  object \n 22  LastHireDate            11552 non-null  object \n 23  LastInt                 11129 non-null  object \n 24  FizzBuzz                11515 non-null  object \n 25  JobFactors              11549 non-null  object \n 26  ResumeUpdate            11511 non-null  object \n 27  CurrencySymbol          11552 non-null  object \n 28  CurrencyDesc            11552 non-null  object \n 29  CompTotal               10737 non-null  float64\n 30  CompFreq                11346 non-null  object \n 31  ConvertedComp           10730 non-null  float64\n 32  WorkWeekHrs             11427 non-null  float64\n 33  WorkPlan                11429 non-null  object \n 34  WorkChallenge           11384 non-null  object \n 35  WorkRemote              11544 non-null  object \n 36  WorkLoc                 11520 non-null  object \n 37  ImpSyn                  11547 non-null  object \n 38  CodeRev                 11551 non-null  object \n 39  CodeRevHrs              9083 non-null   float64\n 40  UnitTests               11523 non-null  object \n 41  PurchaseHow             11354 non-null  object \n 42  PurchaseWhat            11514 non-null  object \n 43  LanguageWorkedWith      11541 non-null  object \n 44  LanguageDesireNextYear  11415 non-null  object \n 45  DatabaseWorkedWith      11096 non-null  object \n 46  DatabaseDesireNextYear  10497 non-null  object \n 47  PlatformWorkedWith      11130 non-null  object \n 48  PlatformDesireNextYear  10991 non-null  object \n 49  WebFrameWorkedWith      10139 non-null  object \n 50  WebFrameDesireNextYear  9918 non-null   object \n 51  MiscTechWorkedWith      9343 non-null   object \n 52  MiscTechDesireNextYear  10078 non-null  object \n 53  DevEnviron              11523 non-null  object \n 54  OpSys                   11518 non-null  object \n 55  Containers              11470 non-null  object \n 56  BlockchainOrg           9198 non-null   object \n 57  BlockchainIs            8915 non-null   object \n 58  BetterLife              11452 non-null  object \n 59  ITperson                11517 non-null  object \n 60  OffOn                   11514 non-null  object \n 61  SocialMedia             11251 non-null  object \n 62  Extraversion            11532 non-null  object \n 63  ScreenName              11039 non-null  object \n 64  SOVisit1st              11227 non-null  object \n 65  SOVisitFreq             11547 non-null  object \n 66  SOVisitTo               11551 non-null  object \n 67  SOFindAnswer            11549 non-null  object \n 68  SOTimeSaved             11501 non-null  object \n 69  SOHowMuchTime           9616 non-null   object \n 70  SOAccount               11551 non-null  object \n 71  SOPartFreq              10404 non-null  object \n 72  SOJobs                  11546 non-null  object \n 73  EntTeams                11547 non-null  object \n 74  SOComm                  11552 non-null  object \n 75  WelcomeChange           11463 non-null  object \n 76  SONewContent            9557 non-null   object \n 77  Age                     11255 non-null  float64\n 78  Gender                  11477 non-null  object \n 79  Trans                   11429 non-null  object \n 80  Sexuality               11005 non-null  object \n 81  Ethnicity               10869 non-null  object \n 82  Dependents              11408 non-null  object \n 83  SurveyLength            11533 non-null  object \n 84  SurveyEase              11538 non-null  object \ndtypes: float64(5), int64(1), object(79)\nmemory usage: 4.0+ MB\nNone\n",
          "output_type": "stream"
        }
      ],
      "execution_count": 6
    },
    {
      "cell_type": "code",
      "source": "df.head()",
      "metadata": {
        "trusted": true
      },
      "outputs": [
        {
          "execution_count": 7,
          "output_type": "execute_result",
          "data": {
            "text/plain": "   Respondent                      MainBranch Hobbyist  \\\n0           4  I am a developer by profession       No   \n1           9  I am a developer by profession      Yes   \n2          13  I am a developer by profession      Yes   \n3          16  I am a developer by profession      Yes   \n4          17  I am a developer by profession      Yes   \n\n                                         OpenSourcer  \\\n0                                              Never   \n1                         Once a month or more often   \n2  Less than once a month but more than once per ...   \n3                                              Never   \n4  Less than once a month but more than once per ...   \n\n                                          OpenSource          Employment  \\\n0  The quality of OSS and closed source software ...  Employed full-time   \n1  The quality of OSS and closed source software ...  Employed full-time   \n2  OSS is, on average, of HIGHER quality than pro...  Employed full-time   \n3  The quality of OSS and closed source software ...  Employed full-time   \n4  The quality of OSS and closed source software ...  Employed full-time   \n\n          Country Student                                            EdLevel  \\\n0   United States      No           Bachelor’s degree (BA, BS, B.Eng., etc.)   \n1     New Zealand      No  Some college/university study without earning ...   \n2   United States      No        Master’s degree (MA, MS, M.Eng., MBA, etc.)   \n3  United Kingdom      No        Master’s degree (MA, MS, M.Eng., MBA, etc.)   \n4       Australia      No           Bachelor’s degree (BA, BS, B.Eng., etc.)   \n\n                                      UndergradMajor  ...  \\\n0  Computer science, computer engineering, or sof...  ...   \n1  Computer science, computer engineering, or sof...  ...   \n2  Computer science, computer engineering, or sof...  ...   \n3                                                NaN  ...   \n4  Computer science, computer engineering, or sof...  ...   \n\n                              WelcomeChange  \\\n0   Just as welcome now as I felt last year   \n1   Just as welcome now as I felt last year   \n2  Somewhat more welcome now than last year   \n3   Just as welcome now as I felt last year   \n4   Just as welcome now as I felt last year   \n\n                                        SONewContent   Age Gender Trans  \\\n0  Tech articles written by other developers;Indu...  22.0    Man    No   \n1                                                NaN  23.0    Man    No   \n2  Tech articles written by other developers;Cour...  28.0    Man    No   \n3  Tech articles written by other developers;Indu...  26.0    Man    No   \n4  Tech articles written by other developers;Indu...  29.0    Man    No   \n\n                 Sexuality                              Ethnicity Dependents  \\\n0  Straight / Heterosexual           White or of European descent         No   \n1                 Bisexual           White or of European descent         No   \n2  Straight / Heterosexual           White or of European descent        Yes   \n3  Straight / Heterosexual           White or of European descent         No   \n4  Straight / Heterosexual  Hispanic or Latino/Latina;Multiracial         No   \n\n            SurveyLength                  SurveyEase  \n0  Appropriate in length                        Easy  \n1  Appropriate in length  Neither easy nor difficult  \n2  Appropriate in length                        Easy  \n3  Appropriate in length  Neither easy nor difficult  \n4  Appropriate in length                        Easy  \n\n[5 rows x 85 columns]",
            "text/html": "<div>\n<style scoped>\n    .dataframe tbody tr th:only-of-type {\n        vertical-align: middle;\n    }\n\n    .dataframe tbody tr th {\n        vertical-align: top;\n    }\n\n    .dataframe thead th {\n        text-align: right;\n    }\n</style>\n<table border=\"1\" class=\"dataframe\">\n  <thead>\n    <tr style=\"text-align: right;\">\n      <th></th>\n      <th>Respondent</th>\n      <th>MainBranch</th>\n      <th>Hobbyist</th>\n      <th>OpenSourcer</th>\n      <th>OpenSource</th>\n      <th>Employment</th>\n      <th>Country</th>\n      <th>Student</th>\n      <th>EdLevel</th>\n      <th>UndergradMajor</th>\n      <th>...</th>\n      <th>WelcomeChange</th>\n      <th>SONewContent</th>\n      <th>Age</th>\n      <th>Gender</th>\n      <th>Trans</th>\n      <th>Sexuality</th>\n      <th>Ethnicity</th>\n      <th>Dependents</th>\n      <th>SurveyLength</th>\n      <th>SurveyEase</th>\n    </tr>\n  </thead>\n  <tbody>\n    <tr>\n      <th>0</th>\n      <td>4</td>\n      <td>I am a developer by profession</td>\n      <td>No</td>\n      <td>Never</td>\n      <td>The quality of OSS and closed source software ...</td>\n      <td>Employed full-time</td>\n      <td>United States</td>\n      <td>No</td>\n      <td>Bachelor’s degree (BA, BS, B.Eng., etc.)</td>\n      <td>Computer science, computer engineering, or sof...</td>\n      <td>...</td>\n      <td>Just as welcome now as I felt last year</td>\n      <td>Tech articles written by other developers;Indu...</td>\n      <td>22.0</td>\n      <td>Man</td>\n      <td>No</td>\n      <td>Straight / Heterosexual</td>\n      <td>White or of European descent</td>\n      <td>No</td>\n      <td>Appropriate in length</td>\n      <td>Easy</td>\n    </tr>\n    <tr>\n      <th>1</th>\n      <td>9</td>\n      <td>I am a developer by profession</td>\n      <td>Yes</td>\n      <td>Once a month or more often</td>\n      <td>The quality of OSS and closed source software ...</td>\n      <td>Employed full-time</td>\n      <td>New Zealand</td>\n      <td>No</td>\n      <td>Some college/university study without earning ...</td>\n      <td>Computer science, computer engineering, or sof...</td>\n      <td>...</td>\n      <td>Just as welcome now as I felt last year</td>\n      <td>NaN</td>\n      <td>23.0</td>\n      <td>Man</td>\n      <td>No</td>\n      <td>Bisexual</td>\n      <td>White or of European descent</td>\n      <td>No</td>\n      <td>Appropriate in length</td>\n      <td>Neither easy nor difficult</td>\n    </tr>\n    <tr>\n      <th>2</th>\n      <td>13</td>\n      <td>I am a developer by profession</td>\n      <td>Yes</td>\n      <td>Less than once a month but more than once per ...</td>\n      <td>OSS is, on average, of HIGHER quality than pro...</td>\n      <td>Employed full-time</td>\n      <td>United States</td>\n      <td>No</td>\n      <td>Master’s degree (MA, MS, M.Eng., MBA, etc.)</td>\n      <td>Computer science, computer engineering, or sof...</td>\n      <td>...</td>\n      <td>Somewhat more welcome now than last year</td>\n      <td>Tech articles written by other developers;Cour...</td>\n      <td>28.0</td>\n      <td>Man</td>\n      <td>No</td>\n      <td>Straight / Heterosexual</td>\n      <td>White or of European descent</td>\n      <td>Yes</td>\n      <td>Appropriate in length</td>\n      <td>Easy</td>\n    </tr>\n    <tr>\n      <th>3</th>\n      <td>16</td>\n      <td>I am a developer by profession</td>\n      <td>Yes</td>\n      <td>Never</td>\n      <td>The quality of OSS and closed source software ...</td>\n      <td>Employed full-time</td>\n      <td>United Kingdom</td>\n      <td>No</td>\n      <td>Master’s degree (MA, MS, M.Eng., MBA, etc.)</td>\n      <td>NaN</td>\n      <td>...</td>\n      <td>Just as welcome now as I felt last year</td>\n      <td>Tech articles written by other developers;Indu...</td>\n      <td>26.0</td>\n      <td>Man</td>\n      <td>No</td>\n      <td>Straight / Heterosexual</td>\n      <td>White or of European descent</td>\n      <td>No</td>\n      <td>Appropriate in length</td>\n      <td>Neither easy nor difficult</td>\n    </tr>\n    <tr>\n      <th>4</th>\n      <td>17</td>\n      <td>I am a developer by profession</td>\n      <td>Yes</td>\n      <td>Less than once a month but more than once per ...</td>\n      <td>The quality of OSS and closed source software ...</td>\n      <td>Employed full-time</td>\n      <td>Australia</td>\n      <td>No</td>\n      <td>Bachelor’s degree (BA, BS, B.Eng., etc.)</td>\n      <td>Computer science, computer engineering, or sof...</td>\n      <td>...</td>\n      <td>Just as welcome now as I felt last year</td>\n      <td>Tech articles written by other developers;Indu...</td>\n      <td>29.0</td>\n      <td>Man</td>\n      <td>No</td>\n      <td>Straight / Heterosexual</td>\n      <td>Hispanic or Latino/Latina;Multiracial</td>\n      <td>No</td>\n      <td>Appropriate in length</td>\n      <td>Easy</td>\n    </tr>\n  </tbody>\n</table>\n<p>5 rows × 85 columns</p>\n</div>"
          },
          "metadata": {}
        }
      ],
      "execution_count": 7
    },
    {
      "cell_type": "markdown",
      "source": "> Note: This version of the lab is working on JupyterLite, which requires the dataset to be downloaded to the interface.While working on the downloaded version of this notebook on their local machines(Jupyter Anaconda), the learners can simply **skip the steps above,** and simply use the URL directly in the `pandas.read_csv()` function. You can uncomment and run the statements in the cell below.\n",
      "metadata": {}
    },
    {
      "cell_type": "code",
      "source": "#df = pd.read_csv(\"https://cf-courses-data.s3.us.cloud-object-storage.appdomain.cloud/IBM-DA0321EN-SkillsNetwork/LargeData/m1_survey_data.csv\")",
      "metadata": {},
      "outputs": [],
      "execution_count": null
    },
    {
      "cell_type": "markdown",
      "source": "## Finding duplicates\n",
      "metadata": {}
    },
    {
      "cell_type": "markdown",
      "source": "In this section you will identify duplicate values in the dataset.\n",
      "metadata": {}
    },
    {
      "cell_type": "markdown",
      "source": " Find how many duplicate rows exist in the dataframe.\n",
      "metadata": {}
    },
    {
      "cell_type": "code",
      "source": "# your code goes here\n#find the duplicates row\nduplicate_rows = df.duplicated(keep=False)\n\n#Print the result\nprint(duplicate_rows)",
      "metadata": {
        "trusted": true
      },
      "outputs": [
        {
          "name": "stdout",
          "text": "0        False\n1        False\n2        False\n3        False\n4        False\n         ...  \n11547    False\n11548    False\n11549    False\n11550    False\n11551    False\nLength: 11398, dtype: bool\n",
          "output_type": "stream"
        }
      ],
      "execution_count": 12
    },
    {
      "cell_type": "markdown",
      "source": "## Removing duplicates\n",
      "metadata": {}
    },
    {
      "cell_type": "markdown",
      "source": "Remove the duplicate rows from the dataframe.\n",
      "metadata": {}
    },
    {
      "cell_type": "code",
      "source": "# your code goes here\n# remove duplicate rows \ndf.drop_duplicates(inplace=True)\n",
      "metadata": {
        "trusted": true
      },
      "outputs": [],
      "execution_count": 9
    },
    {
      "cell_type": "markdown",
      "source": "Verify if duplicates were actually dropped.\n",
      "metadata": {}
    },
    {
      "cell_type": "code",
      "source": "# your code goes here\nduplicate2= df[df.duplicated() == True]\nprint(duplicate2)",
      "metadata": {
        "trusted": true
      },
      "outputs": [
        {
          "name": "stdout",
          "text": "Empty DataFrame\nColumns: [Respondent, MainBranch, Hobbyist, OpenSourcer, OpenSource, Employment, Country, Student, EdLevel, UndergradMajor, EduOther, OrgSize, DevType, YearsCode, Age1stCode, YearsCodePro, CareerSat, JobSat, MgrIdiot, MgrMoney, MgrWant, JobSeek, LastHireDate, LastInt, FizzBuzz, JobFactors, ResumeUpdate, CurrencySymbol, CurrencyDesc, CompTotal, CompFreq, ConvertedComp, WorkWeekHrs, WorkPlan, WorkChallenge, WorkRemote, WorkLoc, ImpSyn, CodeRev, CodeRevHrs, UnitTests, PurchaseHow, PurchaseWhat, LanguageWorkedWith, LanguageDesireNextYear, DatabaseWorkedWith, DatabaseDesireNextYear, PlatformWorkedWith, PlatformDesireNextYear, WebFrameWorkedWith, WebFrameDesireNextYear, MiscTechWorkedWith, MiscTechDesireNextYear, DevEnviron, OpSys, Containers, BlockchainOrg, BlockchainIs, BetterLife, ITperson, OffOn, SocialMedia, Extraversion, ScreenName, SOVisit1st, SOVisitFreq, SOVisitTo, SOFindAnswer, SOTimeSaved, SOHowMuchTime, SOAccount, SOPartFreq, SOJobs, EntTeams, SOComm, WelcomeChange, SONewContent, Age, Gender, Trans, Sexuality, Ethnicity, Dependents, SurveyLength, SurveyEase]\nIndex: []\n\n[0 rows x 85 columns]\n",
          "output_type": "stream"
        }
      ],
      "execution_count": 13
    },
    {
      "cell_type": "markdown",
      "source": "## Finding Missing values\n",
      "metadata": {}
    },
    {
      "cell_type": "markdown",
      "source": "Find the missing values for all columns.\n",
      "metadata": {}
    },
    {
      "cell_type": "code",
      "source": "# your code goes here\nmissing_data = df.isnull()\nprint(missing_data.head())\nfor column in missing_data.columns.values.tolist():\n    print(column)\n    print (missing_data[column].value_counts())\n    print(\"\") ",
      "metadata": {
        "trusted": true
      },
      "outputs": [
        {
          "name": "stdout",
          "text": "   Respondent  MainBranch  Hobbyist  OpenSourcer  OpenSource  Employment  \\\n0       False       False     False        False       False       False   \n1       False       False     False        False       False       False   \n2       False       False     False        False       False       False   \n3       False       False     False        False       False       False   \n4       False       False     False        False       False       False   \n\n   Country  Student  EdLevel  UndergradMajor  ...  WelcomeChange  \\\n0    False    False    False           False  ...          False   \n1    False    False    False           False  ...          False   \n2    False    False    False           False  ...          False   \n3    False    False    False            True  ...          False   \n4    False    False    False           False  ...          False   \n\n   SONewContent    Age  Gender  Trans  Sexuality  Ethnicity  Dependents  \\\n0         False  False   False  False      False      False       False   \n1          True  False   False  False      False      False       False   \n2         False  False   False  False      False      False       False   \n3         False  False   False  False      False      False       False   \n4         False  False   False  False      False      False       False   \n\n   SurveyLength  SurveyEase  \n0         False       False  \n1         False       False  \n2         False       False  \n3         False       False  \n4         False       False  \n\n[5 rows x 85 columns]\nRespondent\nRespondent\nFalse    11398\nName: count, dtype: int64\n\nMainBranch\nMainBranch\nFalse    11398\nName: count, dtype: int64\n\nHobbyist\nHobbyist\nFalse    11398\nName: count, dtype: int64\n\nOpenSourcer\nOpenSourcer\nFalse    11398\nName: count, dtype: int64\n\nOpenSource\nOpenSource\nFalse    11317\nTrue        81\nName: count, dtype: int64\n\nEmployment\nEmployment\nFalse    11398\nName: count, dtype: int64\n\nCountry\nCountry\nFalse    11398\nName: count, dtype: int64\n\nStudent\nStudent\nFalse    11347\nTrue        51\nName: count, dtype: int64\n\nEdLevel\nEdLevel\nFalse    11286\nTrue       112\nName: count, dtype: int64\n\nUndergradMajor\nUndergradMajor\nFalse    10661\nTrue       737\nName: count, dtype: int64\n\nEduOther\nEduOther\nFalse    11234\nTrue       164\nName: count, dtype: int64\n\nOrgSize\nOrgSize\nFalse    11302\nTrue        96\nName: count, dtype: int64\n\nDevType\nDevType\nFalse    11333\nTrue        65\nName: count, dtype: int64\n\nYearsCode\nYearsCode\nFalse    11389\nTrue         9\nName: count, dtype: int64\n\nAge1stCode\nAge1stCode\nFalse    11385\nTrue        13\nName: count, dtype: int64\n\nYearsCodePro\nYearsCodePro\nFalse    11382\nTrue        16\nName: count, dtype: int64\n\nCareerSat\nCareerSat\nFalse    11398\nName: count, dtype: int64\n\nJobSat\nJobSat\nFalse    11397\nTrue         1\nName: count, dtype: int64\n\nMgrIdiot\nMgrIdiot\nFalse    10905\nTrue       493\nName: count, dtype: int64\n\nMgrMoney\nMgrMoney\nFalse    10901\nTrue       497\nName: count, dtype: int64\n\nMgrWant\nMgrWant\nFalse    10905\nTrue       493\nName: count, dtype: int64\n\nJobSeek\nJobSeek\nFalse    11398\nName: count, dtype: int64\n\nLastHireDate\nLastHireDate\nFalse    11398\nName: count, dtype: int64\n\nLastInt\nLastInt\nFalse    10985\nTrue       413\nName: count, dtype: int64\n\nFizzBuzz\nFizzBuzz\nFalse    11361\nTrue        37\nName: count, dtype: int64\n\nJobFactors\nJobFactors\nFalse    11395\nTrue         3\nName: count, dtype: int64\n\nResumeUpdate\nResumeUpdate\nFalse    11359\nTrue        39\nName: count, dtype: int64\n\nCurrencySymbol\nCurrencySymbol\nFalse    11398\nName: count, dtype: int64\n\nCurrencyDesc\nCurrencyDesc\nFalse    11398\nName: count, dtype: int64\n\nCompTotal\nCompTotal\nFalse    10589\nTrue       809\nName: count, dtype: int64\n\nCompFreq\nCompFreq\nFalse    11192\nTrue       206\nName: count, dtype: int64\n\nConvertedComp\nConvertedComp\nFalse    10582\nTrue       816\nName: count, dtype: int64\n\nWorkWeekHrs\nWorkWeekHrs\nFalse    11276\nTrue       122\nName: count, dtype: int64\n\nWorkPlan\nWorkPlan\nFalse    11277\nTrue       121\nName: count, dtype: int64\n\nWorkChallenge\nWorkChallenge\nFalse    11234\nTrue       164\nName: count, dtype: int64\n\nWorkRemote\nWorkRemote\nFalse    11390\nTrue         8\nName: count, dtype: int64\n\nWorkLoc\nWorkLoc\nFalse    11366\nTrue        32\nName: count, dtype: int64\n\nImpSyn\nImpSyn\nFalse    11393\nTrue         5\nName: count, dtype: int64\n\nCodeRev\nCodeRev\nFalse    11397\nTrue         1\nName: count, dtype: int64\n\nCodeRevHrs\nCodeRevHrs\nFalse    8972\nTrue     2426\nName: count, dtype: int64\n\nUnitTests\nUnitTests\nFalse    11369\nTrue        29\nName: count, dtype: int64\n\nPurchaseHow\nPurchaseHow\nFalse    11202\nTrue       196\nName: count, dtype: int64\n\nPurchaseWhat\nPurchaseWhat\nFalse    11360\nTrue        38\nName: count, dtype: int64\n\nLanguageWorkedWith\nLanguageWorkedWith\nFalse    11387\nTrue        11\nName: count, dtype: int64\n\nLanguageDesireNextYear\nLanguageDesireNextYear\nFalse    11264\nTrue       134\nName: count, dtype: int64\n\nDatabaseWorkedWith\nDatabaseWorkedWith\nFalse    10945\nTrue       453\nName: count, dtype: int64\n\nDatabaseDesireNextYear\nDatabaseDesireNextYear\nFalse    10356\nTrue      1042\nName: count, dtype: int64\n\nPlatformWorkedWith\nPlatformWorkedWith\nFalse    10987\nTrue       411\nName: count, dtype: int64\n\nPlatformDesireNextYear\nPlatformDesireNextYear\nFalse    10854\nTrue       544\nName: count, dtype: int64\n\nWebFrameWorkedWith\nWebFrameWorkedWith\nFalse    10005\nTrue      1393\nName: count, dtype: int64\n\nWebFrameDesireNextYear\nWebFrameDesireNextYear\nFalse    9781\nTrue     1617\nName: count, dtype: int64\n\nMiscTechWorkedWith\nMiscTechWorkedWith\nFalse    9216\nTrue     2182\nName: count, dtype: int64\n\nMiscTechDesireNextYear\nMiscTechDesireNextYear\nFalse    9943\nTrue     1455\nName: count, dtype: int64\n\nDevEnviron\nDevEnviron\nFalse    11369\nTrue        29\nName: count, dtype: int64\n\nOpSys\nOpSys\nFalse    11364\nTrue        34\nName: count, dtype: int64\n\nContainers\nContainers\nFalse    11316\nTrue        82\nName: count, dtype: int64\n\nBlockchainOrg\nBlockchainOrg\nFalse    9076\nTrue     2322\nName: count, dtype: int64\n\nBlockchainIs\nBlockchainIs\nFalse    8788\nTrue     2610\nName: count, dtype: int64\n\nBetterLife\nBetterLife\nFalse    11300\nTrue        98\nName: count, dtype: int64\n\nITperson\nITperson\nFalse    11363\nTrue        35\nName: count, dtype: int64\n\nOffOn\nOffOn\nFalse    11360\nTrue        38\nName: count, dtype: int64\n\nSocialMedia\nSocialMedia\nFalse    11105\nTrue       293\nName: count, dtype: int64\n\nExtraversion\nExtraversion\nFalse    11378\nTrue        20\nName: count, dtype: int64\n\nScreenName\nScreenName\nFalse    10891\nTrue       507\nName: count, dtype: int64\n\nSOVisit1st\nSOVisit1st\nFalse    11073\nTrue       325\nName: count, dtype: int64\n\nSOVisitFreq\nSOVisitFreq\nFalse    11393\nTrue         5\nName: count, dtype: int64\n\nSOVisitTo\nSOVisitTo\nFalse    11397\nTrue         1\nName: count, dtype: int64\n\nSOFindAnswer\nSOFindAnswer\nFalse    11395\nTrue         3\nName: count, dtype: int64\n\nSOTimeSaved\nSOTimeSaved\nFalse    11348\nTrue        50\nName: count, dtype: int64\n\nSOHowMuchTime\nSOHowMuchTime\nFalse    9481\nTrue     1917\nName: count, dtype: int64\n\nSOAccount\nSOAccount\nFalse    11397\nTrue         1\nName: count, dtype: int64\n\nSOPartFreq\nSOPartFreq\nFalse    10270\nTrue      1128\nName: count, dtype: int64\n\nSOJobs\nSOJobs\nFalse    11392\nTrue         6\nName: count, dtype: int64\n\nEntTeams\nEntTeams\nFalse    11393\nTrue         5\nName: count, dtype: int64\n\nSOComm\nSOComm\nFalse    11398\nName: count, dtype: int64\n\nWelcomeChange\nWelcomeChange\nFalse    11313\nTrue        85\nName: count, dtype: int64\n\nSONewContent\nSONewContent\nFalse    9433\nTrue     1965\nName: count, dtype: int64\n\nAge\nAge\nFalse    11111\nTrue       287\nName: count, dtype: int64\n\nGender\nGender\nFalse    11325\nTrue        73\nName: count, dtype: int64\n\nTrans\nTrans\nFalse    11275\nTrue       123\nName: count, dtype: int64\n\nSexuality\nSexuality\nFalse    10856\nTrue       542\nName: count, dtype: int64\n\nEthnicity\nEthnicity\nFalse    10723\nTrue       675\nName: count, dtype: int64\n\nDependents\nDependents\nFalse    11258\nTrue       140\nName: count, dtype: int64\n\nSurveyLength\nSurveyLength\nFalse    11379\nTrue        19\nName: count, dtype: int64\n\nSurveyEase\nSurveyEase\nFalse    11384\nTrue        14\nName: count, dtype: int64\n\n",
          "output_type": "stream"
        }
      ],
      "execution_count": 15
    },
    {
      "cell_type": "markdown",
      "source": "Find out how many rows are missing in the column 'WorkLoc'\n",
      "metadata": {}
    },
    {
      "cell_type": "code",
      "source": "# your code goes here\nprint (df['WorkLoc'].isnull().sum())",
      "metadata": {
        "trusted": true
      },
      "outputs": [
        {
          "name": "stdout",
          "text": "32\n",
          "output_type": "stream"
        }
      ],
      "execution_count": 17
    },
    {
      "cell_type": "markdown",
      "source": "## Imputing missing values\n",
      "metadata": {}
    },
    {
      "cell_type": "markdown",
      "source": "Find the  value counts for the column WorkLoc.\n",
      "metadata": {}
    },
    {
      "cell_type": "code",
      "source": "# your code goes here\nprint (missing_data['WorkLoc'].value_counts())",
      "metadata": {
        "trusted": true
      },
      "outputs": [
        {
          "name": "stdout",
          "text": "WorkLoc\nFalse    11366\nTrue        32\nName: count, dtype: int64\n",
          "output_type": "stream"
        }
      ],
      "execution_count": 18
    },
    {
      "cell_type": "markdown",
      "source": "Identify the value that is most frequent (majority) in the WorkLoc column.\n",
      "metadata": {}
    },
    {
      "cell_type": "code",
      "source": "#make a note of the majority value here, for future reference\n#\nmost_frequent = df['WorkLoc'].value_counts().idxmax()\nprint(most_frequent)",
      "metadata": {
        "trusted": true
      },
      "outputs": [
        {
          "name": "stdout",
          "text": "Office\n",
          "output_type": "stream"
        }
      ],
      "execution_count": 20
    },
    {
      "cell_type": "markdown",
      "source": "Impute (replace) all the empty rows in the column WorkLoc with the value that you have identified as majority.\n",
      "metadata": {}
    },
    {
      "cell_type": "code",
      "source": "# your code goes here\ndf['WorkLoc'].replace(np.nan, most_frequent, inplace=True)",
      "metadata": {
        "trusted": true
      },
      "outputs": [
        {
          "name": "stderr",
          "text": "<ipython-input-21-3b0c3f0d0699>:2: FutureWarning: A value is trying to be set on a copy of a DataFrame or Series through chained assignment using an inplace method.\nThe behavior will change in pandas 3.0. This inplace method will never work because the intermediate object on which we are setting values always behaves as a copy.\n\nFor example, when doing 'df[col].method(value, inplace=True)', try using 'df.method({col: value}, inplace=True)' or df[col] = df[col].method(value) instead, to perform the operation inplace on the original object.\n\n\n  df['WorkLoc'].replace(np.nan, most_frequent, inplace=True)\n",
          "output_type": "stream"
        }
      ],
      "execution_count": 21
    },
    {
      "cell_type": "markdown",
      "source": "After imputation there should ideally not be any empty rows in the WorkLoc column.\n",
      "metadata": {}
    },
    {
      "cell_type": "markdown",
      "source": "Verify if imputing was successful.\n",
      "metadata": {}
    },
    {
      "cell_type": "code",
      "source": "# your code goes here\nprint (df['WorkLoc'].isnull().sum())",
      "metadata": {
        "trusted": true
      },
      "outputs": [
        {
          "name": "stdout",
          "text": "0\n",
          "output_type": "stream"
        }
      ],
      "execution_count": 22
    },
    {
      "cell_type": "markdown",
      "source": "## Normalizing data\n",
      "metadata": {}
    },
    {
      "cell_type": "markdown",
      "source": "There are two columns in the dataset that talk about compensation.\n\nOne is \"CompFreq\". This column shows how often a developer is paid (Yearly, Monthly, Weekly).\n\nThe other is \"CompTotal\". This column talks about how much the developer is paid per Year, Month, or Week depending upon his/her \"CompFreq\". \n\nThis makes it difficult to compare the total compensation of the developers.\n\nIn this section you will create a new column called 'NormalizedAnnualCompensation' which contains the 'Annual Compensation' irrespective of the 'CompFreq'.\n\nOnce this column is ready, it makes comparison of salaries easy.\n",
      "metadata": {}
    },
    {
      "cell_type": "markdown",
      "source": "<hr>\n",
      "metadata": {}
    },
    {
      "cell_type": "markdown",
      "source": "List out the various categories in the column 'CompFreq'\n",
      "metadata": {}
    },
    {
      "cell_type": "code",
      "source": "# your code goes here\nprint (df['CompFreq'].unique())",
      "metadata": {
        "trusted": true
      },
      "outputs": [
        {
          "name": "stdout",
          "text": "['Yearly' 'Monthly' 'Weekly' nan]\n",
          "output_type": "stream"
        }
      ],
      "execution_count": 25
    },
    {
      "cell_type": "markdown",
      "source": "Create a new column named 'NormalizedAnnualCompensation'. Use the hint given below if needed.\n",
      "metadata": {}
    },
    {
      "cell_type": "markdown",
      "source": "Double click to see the **Hint**.\n\n<!--\n\nUse the below logic to arrive at the values for the column NormalizedAnnualCompensation.\n\nIf the CompFreq is Yearly then use the exising value in CompTotal\nIf the CompFreq is Monthly then multiply the value in CompTotal with 12 (months in an year)\nIf the CompFreq is Weekly then multiply the value in CompTotal with 52 (weeks in an year)\n\n-->\n",
      "metadata": {}
    },
    {
      "cell_type": "code",
      "source": "# your code goes here\ndef calculate_Annual_Compensation(df):\n    if df['CompFreq'] == 'Yearly':\n        return df['CompTotal']\n    elif df['CompFreq'] == 'Monthly':\n        return df['CompTotal'] * 12\n    elif df['CompFreq'] == 'Weekly':\n        return df['CompTotal'] * 52\n    else:\n        return None\n\ndf['NormalizedAnnualCompensation'] = df.apply(calculate_Annual_Compensation, axis=1)\n",
      "metadata": {
        "trusted": true
      },
      "outputs": [],
      "execution_count": 26
    },
    {
      "cell_type": "markdown",
      "source": "## Authors\n",
      "metadata": {}
    },
    {
      "cell_type": "markdown",
      "source": "Ramesh Sannareddy\n",
      "metadata": {}
    },
    {
      "cell_type": "markdown",
      "source": "### Other Contributors\n",
      "metadata": {}
    },
    {
      "cell_type": "markdown",
      "source": "Rav Ahuja\n",
      "metadata": {}
    },
    {
      "cell_type": "markdown",
      "source": " Copyright © 2020 IBM Corporation. This notebook and its source code are released under the terms of the [MIT License](https://cognitiveclass.ai/mit-license?utm_medium=Exinfluencer&utm_source=Exinfluencer&utm_content=000026UJ&utm_term=10006555&utm_id=NA-SkillsNetwork-Channel-SkillsNetworkCoursesIBMDA0321ENSkillsNetwork928-2022-01-01&cm_mmc=Email_Newsletter-_-Developer_Ed%2BTech-_-WW_WW-_-SkillsNetwork-Courses-IBM-DA0321EN-SkillsNetwork-21426264&cm_mmca1=000026UJ&cm_mmca2=10006555&cm_mmca3=M12345678&cvosrc=email.Newsletter.M12345678&cvo_campaign=000026UJ).\n",
      "metadata": {}
    },
    {
      "cell_type": "markdown",
      "source": "<!--## Change Log\n",
      "metadata": {}
    },
    {
      "cell_type": "markdown",
      "source": "<!--| Date (YYYY-MM-DD) | Version | Changed By        | Change Description                 |\n| ----------------- | ------- | ----------------- | ---------------------------------- |\n| 2020-10-17        | 0.1     | Ramesh Sannareddy | Created initial version of the lab |--!>\n",
      "metadata": {}
    }
  ]
}